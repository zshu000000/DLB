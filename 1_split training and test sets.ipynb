{
 "cells": [
  {
   "cell_type": "code",
   "execution_count": 1,
   "metadata": {},
   "outputs": [],
   "source": [
    "import pandas as pd\n",
    "import numpy as np\n",
    "from sklearn.model_selection import train_test_split"
   ]
  },
  {
   "cell_type": "code",
   "execution_count": 2,
   "metadata": {},
   "outputs": [
    {
     "name": "stdout",
     "output_type": "stream",
     "text": [
      "dataset:  (457, 2551)\n",
      "train:  (365, 2551)\n",
      "test:  (92, 2551)\n"
     ]
    }
   ],
   "source": [
    "#train_test_split\n",
    "dataset = pd.read_csv('GSE120584_exp.csv', index_col=0)\n",
    "dataset_class={'DLB':1,'Control':0}\n",
    "dataset['Type']=dataset['Type'].map(dataset_class)\n",
    "y = dataset.iloc[:, -1]\n",
    "print(\"dataset: \", dataset.shape)\n",
    "train,test = train_test_split(dataset, test_size=0.2, random_state = 16,stratify=y)\n",
    "train.to_csv('train.csv')\n",
    "test.to_csv('test.csv')\n",
    "print('train: ' , train.shape)\n",
    "print('test: ' , test.shape)"
   ]
  },
  {
   "cell_type": "code",
   "execution_count": null,
   "metadata": {},
   "outputs": [],
   "source": []
  }
 ],
 "metadata": {
  "kernelspec": {
   "display_name": "Python 3",
   "language": "python",
   "name": "python3"
  },
  "language_info": {
   "codemirror_mode": {
    "name": "ipython",
    "version": 3
   },
   "file_extension": ".py",
   "mimetype": "text/x-python",
   "name": "python",
   "nbconvert_exporter": "python",
   "pygments_lexer": "ipython3",
   "version": "3.8.3"
  }
 },
 "nbformat": 4,
 "nbformat_minor": 4
}
