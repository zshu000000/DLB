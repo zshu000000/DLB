{
 "cells": [
  {
   "cell_type": "code",
   "execution_count": 1,
   "metadata": {},
   "outputs": [],
   "source": [
    "import pandas as pd\n",
    "import numpy as np"
   ]
  },
  {
   "cell_type": "code",
   "execution_count": 2,
   "metadata": {},
   "outputs": [],
   "source": [
    "fs_gp=np.load('fs_colnames.npy',allow_pickle=True)\n",
    "fs_gp=fs_gp.tolist()\n",
    "fs_gene_pair = []\n",
    "for i in range(len(fs_gp)):\n",
    "    x=fs_gp[i].split('|')\n",
    "    fs_gene_pair.append(x)"
   ]
  },
  {
   "cell_type": "code",
   "execution_count": 3,
   "metadata": {},
   "outputs": [],
   "source": [
    "def dataset_gene_pair(dataset):\n",
    "    df=pd.DataFrame()\n",
    "    for i in range(len(fs_gene_pair)):\n",
    "        value=dataset[fs_gene_pair[i][0]] - dataset[fs_gene_pair[i][1]]\n",
    "        df.insert(i,i,value)\n",
    "    return df   "
   ]
  },
  {
   "cell_type": "code",
   "execution_count": 4,
   "metadata": {},
   "outputs": [],
   "source": [
    "df=pd.DataFrame()\n",
    "def convert_value(df):\n",
    "    index=df.columns.values\n",
    "    df_t=df.values\n",
    "    df_t[df_t>0]=1\n",
    "    df_t[df_t<0]=-1\n",
    "    df_t=pd.DataFrame(df_t)\n",
    "    df_t.columns=index\n",
    "    return df_t"
   ]
  },
  {
   "cell_type": "code",
   "execution_count": 5,
   "metadata": {},
   "outputs": [],
   "source": [
    "def fun(x):\n",
    "    if x >= 80:\n",
    "        return 1\n",
    "    elif 70 < x < 80:\n",
    "        return 0\n",
    "    else:\n",
    "        return -1"
   ]
  },
  {
   "cell_type": "code",
   "execution_count": 6,
   "metadata": {},
   "outputs": [],
   "source": [
    "train= pd.read_csv('train.csv', index_col=0)\n",
    "test= pd.read_csv('test.csv', index_col=0)\n",
    "x_train_gp=dataset_gene_pair(train)\n",
    "x_test_gp=dataset_gene_pair(test)\n",
    "x_train_gp=convert_value(x_train_gp)\n",
    "x_test_gp=convert_value(x_test_gp)\n",
    "x_train_gp.columns=fs_gp\n",
    "x_test_gp.columns=fs_gp\n",
    "x_train_gp.insert(x_train_gp.shape[1],'age',train['age'].values)\n",
    "x_train_gp.insert(x_train_gp.shape[1],'apoe4',train['apoe4'].values)\n",
    "x_train_gp.insert(x_train_gp.shape[1],'Type',train['Type'].values)\n",
    "x_test_gp.insert(x_test_gp.shape[1],'age',test['age'].values)\n",
    "x_test_gp.insert(x_test_gp.shape[1],'apoe4',test['apoe4'].values)\n",
    "x_test_gp.insert(x_test_gp.shape[1],'Type',test['Type'].values)\n",
    "x_train_gp['age']= x_train_gp['age'].apply(lambda x: fun(x))\n",
    "x_test_gp['age']= x_test_gp['age'].apply(lambda x: fun(x))\n",
    "x_train_gp.index=train.index\n",
    "x_test_gp.index=test.index\n",
    "x_train_gp.to_csv('.\\\\train_fs.csv')\n",
    "x_test_gp.to_csv('.\\\\test_fs.csv')"
   ]
  },
  {
   "cell_type": "code",
   "execution_count": null,
   "metadata": {},
   "outputs": [],
   "source": []
  },
  {
   "cell_type": "code",
   "execution_count": null,
   "metadata": {},
   "outputs": [],
   "source": []
  }
 ],
 "metadata": {
  "kernelspec": {
   "display_name": "Python 3",
   "language": "python",
   "name": "python3"
  },
  "language_info": {
   "codemirror_mode": {
    "name": "ipython",
    "version": 3
   },
   "file_extension": ".py",
   "mimetype": "text/x-python",
   "name": "python",
   "nbconvert_exporter": "python",
   "pygments_lexer": "ipython3",
   "version": "3.8.3"
  }
 },
 "nbformat": 4,
 "nbformat_minor": 4
}
